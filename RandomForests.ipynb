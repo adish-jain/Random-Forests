{
 "cells": [
  {
   "cell_type": "code",
   "execution_count": 14,
   "metadata": {},
   "outputs": [],
   "source": [
    "\"\"\"\n",
    "This is the starter code and some suggested architecture we provide you with. \n",
    "But feel free to do any modifications as you wish or just completely ignore \n",
    "all of them and have your own implementations.\n",
    "\"\"\"\n",
    "from collections import Counter\n",
    "\n",
    "import pandas as pd\n",
    "import matplotlib.pyplot as plt\n",
    "%matplotlib inline\n",
    "import numpy as np\n",
    "from numpy import genfromtxt\n",
    "import scipy.io\n",
    "from scipy import stats\n",
    "from sklearn.cross_validation import train_test_split\n",
    "from sklearn import preprocessing\n",
    "\n",
    "import csv\n",
    "import save_csv\n",
    "import random\n",
    "random.seed(42)"
   ]
  },
  {
   "cell_type": "code",
   "execution_count": 36,
   "metadata": {},
   "outputs": [],
   "source": [
    "class DecisionTree:\n",
    "\n",
    "    def __init__(self, maxdepth, numFeatures):\n",
    "        \"\"\"\n",
    "        TODO: initialization of a decision tree\n",
    "        \"\"\"\n",
    "        self.root = None\n",
    "        self.maxdepth = maxdepth\n",
    "        self.numFeatures = numFeatures\n",
    "        self.predictions = []\n",
    "             \n",
    "    def entropy(self, y):\n",
    "        \"\"\"\n",
    "        TODO: implement a method that calculates the entropy given all the labels\n",
    "        \"\"\"\n",
    "        y = np.array(y)\n",
    "        H = 0\n",
    "        for i in range(2):\n",
    "            p = np.count_nonzero(y==i)/len(y)\n",
    "            H += p * np.log2(p)\n",
    "        return -H\n",
    "\n",
    "    \n",
    "    def information_gain(self, X, y, thresh):\n",
    "        \"\"\"\n",
    "        TODO: implement a method that calculates information gain given a vector of features (X is nx1 column)\n",
    "        and a split threshold\n",
    "        \"\"\"\n",
    "        H = self.entropy(y)\n",
    "        X = np.array(X)\n",
    "        y = np.array(y)\n",
    "        \n",
    "        l_index = X < thresh\n",
    "        r_index = ~l_index\n",
    "        \n",
    "        X_l = X[l_index]\n",
    "        X_r = X[r_index]\n",
    "        \n",
    "        y_l = y[l_index]\n",
    "        y_r = y[r_index]\n",
    "        \n",
    "        if len(y_l) == 0 or len(y_r) == 0:\n",
    "            return 0\n",
    "        else:\n",
    "            H_after = (len(y_l) * self.entropy(y_l) + len(y_r) * self.entropy(y_r)) / (len(y_l) + len(y_r))\n",
    "            return H - H_after\n",
    "        \n",
    "    def split(self, X, y, idx, thresh):\n",
    "        \"\"\"\n",
    "        TODO: implement a method that returns a split of the dataset given an index of the feature and\n",
    "        a threshold for it\n",
    "        \"\"\"\n",
    "        y = np.array(y)\n",
    "        \n",
    "        X_transpose = X.T\n",
    "        feature_col = X_transpose[idx]\n",
    "        \n",
    "        l_index = feature_col < thresh\n",
    "        r_index = ~l_index\n",
    "           \n",
    "        X_l = X[l_index] \n",
    "        X_r = X[r_index] \n",
    "        \n",
    "        y_l = y[l_index]\n",
    "        y_r = y[r_index]\n",
    "        \n",
    "        return (X_l, y_l, X_r, y_r)\n",
    "        \n",
    "    def segmenter(self, X, y):\n",
    "        \"\"\"\n",
    "        TODO: compute entropy gain for all single-dimension splits,\n",
    "        return the feature and the threshold for the split that\n",
    "        has maximum gain\n",
    "        \"\"\"\n",
    "        X_transpose = X.T\n",
    "        information_gains = {} \n",
    "        thresholds = []\n",
    "        features = np.arange(X.shape[1])\n",
    "        np.random.shuffle(features)\n",
    "        possibleFeatures = features[:self.numFeatures]\n",
    "        for j in range(1000):\n",
    "            for i in possibleFeatures:\n",
    "                feature_col = X_transpose[i]\n",
    "                thresh = np.random.choice(feature_col, 1)\n",
    "                information_gains[self.information_gain(feature_col, y, thresh)] = (i, thresh)\n",
    "        return information_gains[max(information_gains.keys())]\n",
    "    \n",
    "    \n",
    "    def growTree(self, X, y, depth):\n",
    "        if len(np.unique(y)) == 1:\n",
    "            return Leaf(y[0])\n",
    "        elif depth == self.maxdepth:\n",
    "            return Leaf(stats.mode(y)[0][0])\n",
    "        else:\n",
    "            best_feature, best_threshold = self.segmenter(X, y)\n",
    "            X_l, y_l, X_r, y_r = self.split(X, y, best_feature, best_threshold)\n",
    "            if len(y_l) == 0 or len(y_r) == 0:\n",
    "                return Leaf(stats.mode(y)[0][0])\n",
    "            return Node((best_feature, best_threshold), self.growTree(X_l, y_l, depth+1), self.growTree(X_r, y_r, depth+1))\n",
    "            \n",
    "        \n",
    "    def fit(self, X, y):\n",
    "        \"\"\"\n",
    "        TODO: fit the model to a training set. Think about what would be \n",
    "        your stopping criteria\n",
    "        \"\"\"\n",
    "        self.root = self.growTree(X, y, 0)\n",
    "\n",
    "    def predict(self, X):\n",
    "        \"\"\"\n",
    "        TODO: predict the labels for input data \n",
    "        \"\"\"\n",
    "        for point in X:\n",
    "            self.traverse(self.root, point)\n",
    "        return self.predictions\n",
    "    \n",
    "    def traverse(self, node, test_point):\n",
    "        if isinstance(node, Leaf):\n",
    "            #print(node.label)\n",
    "            self.predictions.append(node.label)\n",
    "        else:\n",
    "            if test_point[node.split_rule[0]] < node.split_rule[1]:\n",
    "               #print(\"Feature: \" + str(node.split_rule[0]) + \" < threshold: \" + str(node.split_rule[1]))\n",
    "                self.traverse(node.left, test_point)\n",
    "            else:\n",
    "                #print(\"Feature: \" + str(node.split_rule[0]) + \" ≥ threshold: \" + str(node.split_rule[1]))\n",
    "                self.traverse(node.right, test_point)\n",
    "                \n",
    "    def print_tree(self, node, depth=0):\n",
    "        if isinstance(node, Node):\n",
    "            print('%s[feature:%d < %.3f]' % ((depth*' ', (node.split_rule[0]), node.split_rule[1])))\n",
    "            self.print_tree(node.left, depth+1)\n",
    "            self.print_tree(node.right, depth+1)\n",
    "        else:\n",
    "            print('%s[%s]' % ((depth*' ', node.label)))\n",
    "            \n",
    "\n",
    "    def __repr__(self):\n",
    "        \"\"\"\n",
    "        TODO: one way to visualize the decision tree is to write out a __repr__ method\n",
    "        that returns the string representation of a tree. Think about how to visualize \n",
    "        a tree structure. You might have seen this before in CS61A.\n",
    "        \"\"\"\n",
    "        self.print_tree(self.root)"
   ]
  },
  {
   "cell_type": "code",
   "execution_count": 37,
   "metadata": {
    "collapsed": true
   },
   "outputs": [],
   "source": [
    "class Node():\n",
    "    def __init__(self, split_rule, left, right):\n",
    "        self.split_rule = split_rule #(feature, threshold-value)\n",
    "        self.left = left\n",
    "        self.right = right\n",
    "\n",
    "class Leaf():\n",
    "    def __init__(self, label):\n",
    "        self.label = label"
   ]
  },
  {
   "cell_type": "code",
   "execution_count": 38,
   "metadata": {
    "collapsed": true
   },
   "outputs": [],
   "source": [
    "class RandomForest():\n",
    "    \n",
    "    def __init__(self, numTrees, maxdepth, numFeatures):\n",
    "        \"\"\"\n",
    "        TODO: initialization of a random forest\n",
    "        \"\"\"\n",
    "        self.numTrees = numTrees #number of trees in the random forest\n",
    "        self.maxdepth = maxdepth       #the depth of each tree in the forest\n",
    "        self.numFeatures = numFeatures #the number of features we randomly consider on each step to split \n",
    "        self.trees = []\n",
    "        \n",
    "    def fit(self, X, y):\n",
    "        \"\"\"\n",
    "        TODO: fit the model to a training set.\n",
    "        \"\"\"\n",
    "        for i in range(self.numTrees):\n",
    "            indices = np.random.randint(X.shape[0], size=X.shape[0])\n",
    "            X_bootstrapped = X[indices, :]\n",
    "            y_bootstrapped = y[indices]\n",
    "            tree = DecisionTree(self.maxdepth, self.numFeatures)\n",
    "            tree.fit(X_bootstrapped, y_bootstrapped)\n",
    "            self.trees.append(tree)\n",
    "    \n",
    "    def predict(self, X):\n",
    "        \"\"\"\n",
    "        TODO: predict the labels for input data \n",
    "        \"\"\"\n",
    "        predictions = []\n",
    "        for tree in self.trees:\n",
    "            predictions.append(tree.predict(X))\n",
    "        predictions = np.array(predictions).T\n",
    "        final_predictions = []\n",
    "        for row in predictions:\n",
    "            final_predictions.append(stats.mode(row)[0][0])\n",
    "        return final_predictions"
   ]
  },
  {
   "cell_type": "code",
   "execution_count": 39,
   "metadata": {
    "scrolled": false
   },
   "outputs": [
    {
     "name": "stderr",
     "output_type": "stream",
     "text": [
      "/Users/Adish/anaconda/lib/python3.6/site-packages/ipykernel_launcher.py:20: RuntimeWarning: divide by zero encountered in log2\n",
      "/Users/Adish/anaconda/lib/python3.6/site-packages/ipykernel_launcher.py:20: RuntimeWarning: invalid value encountered in double_scalars\n"
     ]
    }
   ],
   "source": [
    "if __name__ == \"__main__\":\n",
    "    dataset = \"spam\"\n",
    "\n",
    "    if dataset == \"titanic\":\n",
    "        # Load titanic data       \n",
    "        path_train = 'datasets/titanic/titanic_training.csv'\n",
    "        X = pd.read_csv(path_train)\n",
    "        one_hot_class = pd.get_dummies(X[\"pclass\"])\n",
    "        one_hot_sex = pd.get_dummies(X[\"sex\"])\n",
    "        one_hot_embarked = pd.get_dummies(X[\"embarked\"])\n",
    "        X = X.drop(\"pclass\", axis=1).drop(\"sex\", axis=1).drop(\"embarked\", axis=1).drop(\"cabin\", axis=1).drop(\"ticket\", axis=1).drop(705, axis=0)\n",
    "        X = X.join(one_hot_class).join(one_hot_sex).join(one_hot_embarked)\n",
    "        X = X.fillna(X.mean())\n",
    "        \n",
    "        path_test = 'datasets/titanic/titanic_testing_data.csv'\n",
    "        Z = pd.read_csv(path_test)\n",
    "        one_hot_class = pd.get_dummies(Z[\"pclass\"])\n",
    "        one_hot_sex = pd.get_dummies(Z[\"sex\"])\n",
    "        one_hot_embarked = pd.get_dummies(Z[\"embarked\"])\n",
    "        Z = Z.drop(\"pclass\", axis=1).drop(\"sex\", axis=1).drop(\"embarked\", axis=1).drop(\"cabin\", axis=1).drop(\"ticket\", axis=1)\n",
    "        Z = Z.join(one_hot_class).join(one_hot_sex).join(one_hot_embarked)\n",
    "        Z = Z.fillna(Z.mean())\n",
    "        \n",
    "        y = np.array(X[\"survived\"], int)  # label = survived\n",
    "        X = X.drop(\"survived\", axis=1)\n",
    "        X = X.values\n",
    "        Z = Z.values\n",
    "        \n",
    "        class_names = [\"Died\", \"Survived\"]\n",
    "        training_data, val_data, training_labels, val_labels = train_test_split(X, y, test_size=0.25)\n",
    "        \n",
    "        \n",
    "    elif dataset == \"spam\":\n",
    "        features = [\n",
    "            \"pain\", \"private\", \"bank\", \"money\", \"drug\", \"spam\", \"prescription\",\n",
    "            \"creative\", \"height\", \"featured\", \"differ\", \"width\", \"other\",\n",
    "            \"energy\", \"business\", \"message\", \"volumes\", \"revision\", \"path\",\n",
    "            \"meter\", \"memo\", \"planning\", \"pleased\", \"record\", \"out\",\n",
    "            \"semicolon\", \"dollar\", \"sharp\", \"exclamation\", \"parenthesis\",\n",
    "            \"square_bracket\", \"ampersand\"\n",
    "        ]\n",
    "        assert len(features) == 32\n",
    "\n",
    "        # Load spam data\n",
    "        path_train = 'datasets/spam-dataset/spam_data.mat'\n",
    "        data = scipy.io.loadmat(path_train)\n",
    "        X = data['training_data']\n",
    "        y = np.squeeze(data['training_labels'])\n",
    "        Z = data['test_data']\n",
    "        class_names = [\"Ham\", \"Spam\"]\n",
    "        training_data, val_data, training_labels, val_labels = train_test_split(X, y, test_size=0.2)\n",
    "    \n",
    "         \n",
    "    else:\n",
    "        raise NotImplementedError(\"Dataset %s not handled\" % dataset)\n",
    "    \n",
    "    \"\"\"\n",
    "    TODO: train decision tree/random forest on different datasets and perform the tasks \n",
    "    in the problem\n",
    "    \"\"\"\n",
    "    classifier = DecisionTree(4, 12) \n",
    "    classifier.fit(training_data, training_labels)\n",
    "    predictions = classifier.predict(val_data)\n",
    "    accuracy = len([1 for i in range(len(predictions)) if predictions[i] == val_labels[i]]) / len(predictions)"
   ]
  },
  {
   "cell_type": "code",
   "execution_count": 40,
   "metadata": {},
   "outputs": [
    {
     "data": {
      "text/plain": [
       "1"
      ]
     },
     "execution_count": 40,
     "metadata": {},
     "output_type": "execute_result"
    }
   ],
   "source": [
    "y[3]"
   ]
  },
  {
   "cell_type": "code",
   "execution_count": 41,
   "metadata": {},
   "outputs": [],
   "source": [
    "classifier.traverse(classifier.root, X[3])"
   ]
  },
  {
   "cell_type": "code",
   "execution_count": 42,
   "metadata": {},
   "outputs": [
    {
     "data": {
      "text/plain": [
       "0"
      ]
     },
     "execution_count": 42,
     "metadata": {},
     "output_type": "execute_result"
    }
   ],
   "source": [
    "y[-1]"
   ]
  },
  {
   "cell_type": "code",
   "execution_count": 43,
   "metadata": {},
   "outputs": [],
   "source": [
    "classifier.traverse(classifier.root, X[-1])"
   ]
  },
  {
   "cell_type": "code",
   "execution_count": 15,
   "metadata": {},
   "outputs": [
    {
     "data": {
      "text/plain": [
       "[<matplotlib.lines.Line2D at 0x1135da080>]"
      ]
     },
     "execution_count": 15,
     "metadata": {},
     "output_type": "execute_result"
    },
    {
     "data": {
      "image/png": "[encoded data removed]",
      "text/plain": [
       "<matplotlib.figure.Figure at 0x1135ecbe0>"
      ]
     },
     "metadata": {},
     "output_type": "display_data"
    }
   ],
   "source": [
    "accuracies = []\n",
    "for depth in np.arange(1, 41, 2):\n",
    "    classifier = DecisionTree(depth, 12) \n",
    "    classifier.fit(training_data, training_labels)\n",
    "    predictions = classifier.predict(val_data)\n",
    "    accuracy = len([1 for i in range(len(predictions)) if predictions[i] == val_labels[i]]) / len(predictions)\n",
    "    accuracies.append(accuracy)\n",
    "plt.figure(figsize=(8, 8))\n",
    "plt.title(\"Depth vs Validation Accuracy\")\n",
    "plt.xlabel(\"Depth of Decision Tree\")\n",
    "plt.ylabel(\"Validation Accuracy\")\n",
    "plt.plot(np.arange(1, 41, 2), accuracies)"
   ]
  },
  {
   "cell_type": "code",
   "execution_count": 19,
   "metadata": {},
   "outputs": [
    {
     "data": {
      "text/plain": [
       "0.788"
      ]
     },
     "execution_count": 19,
     "metadata": {},
     "output_type": "execute_result"
    }
   ],
   "source": [
    "accuracy"
   ]
  },
  {
   "cell_type": "markdown",
   "metadata": {},
   "source": [
    "# Titanic Submission"
   ]
  },
  {
   "cell_type": "code",
   "execution_count": 596,
   "metadata": {},
   "outputs": [
    {
     "name": "stderr",
     "output_type": "stream",
     "text": [
      "/Users/Adish/anaconda/lib/python3.6/site-packages/ipykernel_launcher.py:20: RuntimeWarning: divide by zero encountered in log2\n",
      "/Users/Adish/anaconda/lib/python3.6/site-packages/ipykernel_launcher.py:20: RuntimeWarning: invalid value encountered in double_scalars\n"
     ]
    }
   ],
   "source": [
    "classifier = RandomForest(7, 7, 12)\n",
    "classifier.fit(X, y)\n",
    "predictions = classifier.predict(Z)"
   ]
  },
  {
   "cell_type": "code",
   "execution_count": 598,
   "metadata": {
    "collapsed": true
   },
   "outputs": [],
   "source": [
    "save_csv.results_to_csv(np.array(predictions))"
   ]
  },
  {
   "cell_type": "markdown",
   "metadata": {},
   "source": [
    "# Spam Submission "
   ]
  },
  {
   "cell_type": "code",
   "execution_count": 344,
   "metadata": {},
   "outputs": [
    {
     "name": "stderr",
     "output_type": "stream",
     "text": [
      "/Users/Adish/anaconda/lib/python3.6/site-packages/ipykernel_launcher.py:20: RuntimeWarning: divide by zero encountered in log2\n",
      "/Users/Adish/anaconda/lib/python3.6/site-packages/ipykernel_launcher.py:20: RuntimeWarning: invalid value encountered in double_scalars\n"
     ]
    }
   ],
   "source": [
    "classifier = DecisionTree(7, 32)\n",
    "classifier.fit(X, y)\n",
    "predictions = classifier.predict(Z)"
   ]
  },
  {
   "cell_type": "code",
   "execution_count": 346,
   "metadata": {
    "collapsed": true
   },
   "outputs": [],
   "source": [
    "save_csv.results_to_csv(np.array(predictions))"
   ]
  }
 ],
 "metadata": {
  "kernelspec": {
   "display_name": "Python 3",
   "language": "python",
   "name": "python3"
  },
  "language_info": {
   "codemirror_mode": {
    "name": "ipython",
    "version": 3
   },
   "file_extension": ".py",
   "mimetype": "text/x-python",
   "name": "python",
   "nbconvert_exporter": "python",
   "pygments_lexer": "ipython3",
   "version": "3.6.1"
  }
 },
 "nbformat": 4,
 "nbformat_minor": 2
}
